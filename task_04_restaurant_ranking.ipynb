{
 "cells": [
  {
   "cell_type": "markdown",
   "metadata": {},
   "source": [
    "# Project task 04:  Restaurant ranking"
   ]
  },
  {
   "cell_type": "code",
   "execution_count": 1,
   "metadata": {},
   "outputs": [],
   "source": [
    "import numpy as np\n",
    "import scipy.sparse as sp"
   ]
  },
  {
   "cell_type": "markdown",
   "metadata": {},
   "source": [
    "The goal of this task is to rank restaurants using the **PageRank** algorithm. You are given a directed weighted graph where each node represents one restaurant. The edges in this graph are based on users reviews.\n",
    "\n",
    "Additionally for each restaurant you are given the categories it belongs to, i.e. 'Mexican', 'Italian', etc. Note that each restaurant can belong to multiple categories.\n",
    "\n",
    "Considering these categories as topics you will perform **topic-sensitive PageRank**, enabling you to e.g. find the top 10 'Mexican' restaurants."
   ]
  },
  {
   "cell_type": "markdown",
   "metadata": {},
   "source": [
    "## 1. Load data\n",
    "\n",
    "* The graph is stored as a sparse adjacency matrix $A$\n",
    "* The categories are stored in a binary sparse matrix $C$, with $C_{ij}=1$ indicating that restaurant $i$ belongs to category $j$\n",
    "* We also provide you with a dictionary mapping each category to its corresponding column index in $C$\n",
    "* The name of each restaurant is provided as a list, with the i-th element in the list corresponding to the i-th node in the graph"
   ]
  },
  {
   "cell_type": "code",
   "execution_count": 2,
   "metadata": {},
   "outputs": [
    {
     "data": {
      "text/plain": [
       "<7073x7073 sparse matrix of type '<class 'numpy.float64'>'\n",
       "\twith 1682844 stored elements in Compressed Sparse Row format>"
      ]
     },
     "execution_count": 2,
     "metadata": {},
     "output_type": "execute_result"
    }
   ],
   "source": [
    "A = sp.load_npz('restaurant_graph.npz')\n",
    "A"
   ]
  },
  {
   "cell_type": "code",
   "execution_count": 3,
   "metadata": {},
   "outputs": [
    {
     "data": {
      "text/plain": [
       "<7073x138 sparse matrix of type '<class 'numpy.float64'>'\n",
       "\twith 19047 stored elements in Compressed Sparse Row format>"
      ]
     },
     "execution_count": 3,
     "metadata": {},
     "output_type": "execute_result"
    }
   ],
   "source": [
    "C = sp.load_npz('restaurant_categories.npz')\n",
    "C"
   ]
  },
  {
   "cell_type": "code",
   "execution_count": 4,
   "metadata": {},
   "outputs": [
    {
     "data": {
      "text/plain": [
       "(3, 14)"
      ]
     },
     "execution_count": 4,
     "metadata": {},
     "output_type": "execute_result"
    }
   ],
   "source": [
    "categories = np.load('categories.npy').tolist()\n",
    "categories['Mexican'], categories['Chinese']\n"
   ]
  },
  {
   "cell_type": "code",
   "execution_count": 5,
   "metadata": {},
   "outputs": [
    {
     "data": {
      "text/plain": [
       "array(['Alize Catering', 'Chula Taberna Mexicana', 'Sunnyside Grill'],\n",
       "      dtype='<U50')"
      ]
     },
     "execution_count": 5,
     "metadata": {},
     "output_type": "execute_result"
    }
   ],
   "source": [
    "names = np.load('restaurant_names.npy')\n",
    "names[:3]"
   ]
  },
  {
   "cell_type": "code",
   "execution_count": 6,
   "metadata": {},
   "outputs": [],
   "source": [
    "assert A.shape[0] == len(names) == C.shape[0]\n",
    "assert C.shape[1] == len(categories)"
   ]
  },
  {
   "cell_type": "markdown",
   "metadata": {},
   "source": [
    " ## 2. Determine the teleport set\n",
    " \n",
    "\n",
    "Given a list of topics of intereset, i.e. `['Mexican', 'Italian', ...]`, implement a helper function to return all the restaurants that belong to **at least one** of these topics. These restaurants will become part of the teleport set in topic-sensitive PageRank."
   ]
  },
  {
   "cell_type": "code",
   "execution_count": 7,
   "metadata": {},
   "outputs": [],
   "source": [
    "def teleport_set(C, topics, categories):\n",
    "    \"\"\"\n",
    "    Finds the teleport set consisting of restaurants that belong to at least one of the specified topics.\n",
    "    \n",
    "    Parameters\n",
    "    ----------\n",
    "    C             : sp.spmatrix, shape [num_restaurants, num_categories]\n",
    "                    Binary matrix encoding which restaurants belongs to which categories.\n",
    "    topics        : List[string]\n",
    "                    List of topics of interest.\n",
    "    categories    : dict(string, int)\n",
    "                    Dictionary mapping each category to its corresponding column index in C.\n",
    "        \n",
    "    Returns\n",
    "    -------\n",
    "    teleport_idx : np.array, shape [S]\n",
    "                   The indicies of the nodes in the teleport set.\n",
    "    \"\"\"\n",
    "    #### YOUR CODE ####\n",
    "    \n",
    "    #Intializing teleport_idx to hold indices of teleport nodes\n",
    "    teleport_idx = np.array([],dtype = int)\n",
    "    \n",
    "    #Iterating through all topics of interest\n",
    "    for topic in topics:\n",
    "        #topic_teleport_idx; Array ; Contains indices of restaurants belonging to current category\n",
    "        topic_teleport_idx, col = C[:,categories[topic]].nonzero()\n",
    "        \n",
    "        #Appending unique topic_teleport_idx values to existing teleport nodes\n",
    "        teleport_idx = np.unique(np.append(teleport_idx,topic_teleport_idx))\n",
    "        \n",
    "    return teleport_idx"
   ]
  },
  {
   "cell_type": "markdown",
   "metadata": {},
   "source": [
    " ## 3. Implement topic-sensitive PageRank"
   ]
  },
  {
   "cell_type": "code",
   "execution_count": 8,
   "metadata": {},
   "outputs": [],
   "source": [
    "def page_rank(A, beta, teleport_idx=None, eps=1e-12):\n",
    "    \"\"\"\n",
    "    Implements topic-sensitive PageRank using power iteration and sparse matrix operations.\n",
    "    \n",
    "    Parameters\n",
    "    ----------\n",
    "    A           : sp.spmatrix, shape [num_restaurants, num_restaurants]\n",
    "                  The adjacency matrix representing the graph of restaurants.\n",
    "    beta        : float, \n",
    "                  0 < beta < 1, (1-beta) is the probabilty of teleporting to the nodes in the teleport set\n",
    "    teleport_idx: np.array, shape [S]\n",
    "                  The indicies of the nodes in the teleport set. If it equals to None\n",
    "                  it means runs standard PageRank, i.e. all nodes are in the teleport set.\n",
    "    \n",
    "    Returns\n",
    "    -------\n",
    "    r          : np.array, shape [num_restaurants]\n",
    "                 The page rank vector containing the page rank scores for each restaurant.\n",
    "    \"\"\"\n",
    "\n",
    "    \n",
    "    #### YOUR CODE ####\n",
    "    \n",
    "    #Normalizing Adjacency Matrix A to Column Stochastic Matrix\n",
    "    M = sp.csr_matrix(A / A.sum(axis=0))\n",
    "    \n",
    "    #Number of restaurants\n",
    "    N = M.shape[0]\n",
    "    \n",
    "    #Intializing page rank vector with random values\n",
    "    r = np.random.rand(N)\n",
    "    r = r/np.linalg.norm(r)\n",
    "    \n",
    "    converge = False\n",
    "                    \n",
    "    while (not converge):\n",
    "        r_prev = r  # Setting 'r_prev' as current 'r' value\n",
    "        r = (M.multiply(beta)).dot(r_prev)  # Calculaton; 𝛽 * M * r\n",
    "        \n",
    "        # Topic-Sensitive PageRank Logic\n",
    "        if (teleport_idx is not None):     \n",
    "            S = teleport_idx.shape[0] #Setting teleport set node value:\n",
    "            for i in teleport_idx:\n",
    "                #Update the teleportation part of the PageRank formulation\n",
    "                r[i] = r[i] + ((1-beta)/S) \n",
    "        else:\n",
    "            #Standard PageRank formultaion ; S= N\n",
    "            r = r + ((1-beta)/N)\n",
    "          \n",
    "        converge = np.linalg.norm(r-r_prev) < eps\n",
    "    return r"
   ]
  },
  {
   "cell_type": "markdown",
   "metadata": {},
   "source": [
    "### 3.1 Calculate the standard PageRank scores and print the names of the top 5 restaurants overall"
   ]
  },
  {
   "cell_type": "code",
   "execution_count": 9,
   "metadata": {},
   "outputs": [],
   "source": [
    "idx_to_category = {v:k for k, v in categories.items()}"
   ]
  },
  {
   "cell_type": "code",
   "execution_count": 10,
   "metadata": {
    "scrolled": false
   },
   "outputs": [],
   "source": [
    "r = page_rank(A=A, beta=0.6, teleport_idx=None)"
   ]
  },
  {
   "cell_type": "code",
   "execution_count": 11,
   "metadata": {},
   "outputs": [
    {
     "name": "stdout",
     "output_type": "stream",
     "text": [
      "1 Congee Me \n",
      "  Categories:  ['Korean']\n",
      "2 Go Go China \n",
      "  Categories:  ['Chinese']\n",
      "3 Sushi Making For the Soul \n",
      "  Categories:  ['Japanese']\n",
      "4 Spring Rolls \n",
      "  Categories:  ['African']\n",
      "5 Happy Tummy Filipino Cuisine \n",
      "  Categories:  ['Chinese']\n"
     ]
    }
   ],
   "source": [
    "for i, x in enumerate(r.argsort()[-5:]):\n",
    "    print(i+1, names[x], '\\n  Categories: ', [idx_to_category[cat] for cat in C[x].nonzero()[1]])"
   ]
  },
  {
   "cell_type": "markdown",
   "metadata": {},
   "source": [
    "### 3.2 Calculate the topic-sensitive PageRank scores and print the names of top 5 Mexican restaurants"
   ]
  },
  {
   "cell_type": "code",
   "execution_count": 12,
   "metadata": {},
   "outputs": [
    {
     "name": "stdout",
     "output_type": "stream",
     "text": [
      "1 Chill \n",
      "  Categories:  ['Mexican']\n",
      "2 El Taquito \n",
      "  Categories:  ['Mexican']\n",
      "3 The Atlantic \n",
      "  Categories:  ['Fast Food', 'Mexican']\n",
      "4 Burrito Loco \n",
      "  Categories:  ['Mexican']\n",
      "5 El Takito \n",
      "  Categories:  ['Mexican']\n"
     ]
    }
   ],
   "source": [
    "teleport_idx = teleport_set(C, ['Mexican'], categories)\n",
    "r = page_rank(A=A, beta=0.6, teleport_idx=teleport_idx)\n",
    "\n",
    "for i, x in enumerate(r.argsort()[-5:]):\n",
    "    print(i+1, names[x], '\\n  Categories: ', [idx_to_category[cat] for cat in C[x].nonzero()[1]])"
   ]
  },
  {
   "cell_type": "markdown",
   "metadata": {},
   "source": [
    "### 3.3 Calculate the topic-sensitive PageRank scores and print the names of top 5 Italian or French restaurants\n"
   ]
  },
  {
   "cell_type": "code",
   "execution_count": 13,
   "metadata": {},
   "outputs": [
    {
     "name": "stdout",
     "output_type": "stream",
     "text": [
      "1 Ali Baba's Middle Eastern Cuisine \n",
      "  Categories:  ['Sandwiches', 'Pizza', 'Italian']\n",
      "2 New May Hong Yuen BBQ \n",
      "  Categories:  ['Italian']\n",
      "3 Sunnyside Café \n",
      "  Categories:  ['French']\n",
      "4 IPho Vietnamese Cuisine \n",
      "  Categories:  ['Italian']\n",
      "5 McDonald's \n",
      "  Categories:  ['Italian']\n"
     ]
    }
   ],
   "source": [
    "teleport_idx = teleport_set(C, ['Italian', 'French'], categories)\n",
    "r = page_rank(A=A, beta=0.6, teleport_idx=teleport_idx)\n",
    "\n",
    "for i, x in enumerate(r.argsort()[-5:]):\n",
    "    print(i+1, names[x], '\\n  Categories: ', [idx_to_category[cat] for cat in C[x].nonzero()[1]])"
   ]
  },
  {
   "cell_type": "code",
   "execution_count": null,
   "metadata": {},
   "outputs": [],
   "source": []
  }
 ],
 "metadata": {
  "kernelspec": {
   "display_name": "Python 3",
   "language": "python",
   "name": "python3"
  },
  "language_info": {
   "codemirror_mode": {
    "name": "ipython",
    "version": 3
   },
   "file_extension": ".py",
   "mimetype": "text/x-python",
   "name": "python",
   "nbconvert_exporter": "python",
   "pygments_lexer": "ipython3",
   "version": "3.7.3"
  }
 },
 "nbformat": 4,
 "nbformat_minor": 2
}
