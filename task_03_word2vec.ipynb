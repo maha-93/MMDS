{
 "cells": [
  {
   "cell_type": "code",
   "execution_count": 121,
   "metadata": {},
   "outputs": [],
   "source": [
    "import numpy as np\n",
    "import matplotlib.pyplot as plt\n",
    "from collections import Counter\n",
    "import tensorflow as tf\n",
    "from scipy import spatial\n",
    "%matplotlib inline"
   ]
  },
  {
   "cell_type": "markdown",
   "metadata": {},
   "source": [
    "# 1. Introduction\n",
    "\n",
    "The goal of this project is to obtain the vector representations for words from text.\n",
    "\n",
    "The main idea is that words appearing in similar contexts have similar meanings. Because of that, word vectors of similar words should be close together. Models that use word vectors can utilize these properties, e.g., in sentiment analysis a model will learn that \"good\" and \"great\" are positive words, but will also generalize to other words that it has not seen (e.g. \"amazing\") because they should be close together in the vector space.\n",
    "\n",
    "Vectors can keep other language properties as well, like analogies. The question \"a is to b as c is to ...?\", where the answer is d, can be answered by looking into word vector space and calculating $\\mathbf{u}_b - \\mathbf{u}_a + \\mathbf{u}_c$, and finding the word vector that is the closest to the result.\n",
    "\n",
    "We are given a text that contains $N$ unique words $\\{ x_1, ..., x_N \\}$. We will focus on the Skip-Gram model in which the goal is to predict the context window $S = \\{ x_{i-l}, ..., x_{i-1}, x_{i+1}, ..., x_{i+l} \\}$ from current word $x_i$, where $l$ is the window size. \n",
    "\n",
    "We get a word embedding $\\mathbf{u}_i$ by multiplying the matrix $\\mathbf{U}$ with a one-hot representation $\\mathbf{x}_i$ of a word $x_i$. Then, to get output probabilities for context window, we multiply this embedding with another matrix $\\mathbf{V}$ and apply softmax. The objective is to minimize the loss: $-\\mathop{\\mathbb{E}}[P(S|x_i;\\mathbf{U}, \\mathbf{V})]$.\n",
    "\n",
    "You are given a dataset with positive and negative reviews. Your task is to:\n",
    "+ Construct input-output pairs corresponding to the current word and a word in the context window\n",
    "+ Implement forward and backward propagation with parameter updates for Skip-Gram model\n",
    "+ Train the model\n",
    "+ Test it on word analogies and sentiment analysis task"
   ]
  },
  {
   "cell_type": "markdown",
   "metadata": {},
   "source": [
    "# 2. Load data\n",
    "\n",
    "We'll be working with a subset of reviews for restaurants in Las Vegas. The reviews that we'll be working with are either 1-star or 5-star. You can download the used data set (`task03_data.npy`) from:\n",
    "\n",
    "* ([download link](https://syncandshare.lrz.de/dl/fi7cjApuE3Bd3xyfsyx3k9jr/task03_data.npy)) the preprocessed set of 1-star and 5-star reviews "
   ]
  },
  {
   "cell_type": "code",
   "execution_count": 122,
   "metadata": {},
   "outputs": [],
   "source": [
    "data = np.load(\"task03_data.npy\", allow_pickle=True)\n",
    "reviews_1star = [[x.lower() for x in s] for s in data.item()[\"reviews_1star\"]]\n",
    "reviews_5star = [[x.lower() for x in s] for s in data.item()[\"reviews_5star\"]]"
   ]
  },
  {
   "cell_type": "markdown",
   "metadata": {},
   "source": [
    "We generate the vocabulary by taking the top 500 words by their frequency from both positive and negative sentences. We could also use the whole vocabulary, but that would be slower."
   ]
  },
  {
   "cell_type": "code",
   "execution_count": 123,
   "metadata": {},
   "outputs": [],
   "source": [
    "vocabulary = [x for s in reviews_1star + reviews_5star for x in s]\n",
    "vocabulary, counts = zip(*Counter(vocabulary).most_common(500))"
   ]
  },
  {
   "cell_type": "code",
   "execution_count": 124,
   "metadata": {},
   "outputs": [],
   "source": [
    "VOCABULARY_SIZE = len(vocabulary)\n",
    "EMBEDDING_DIM = 100"
   ]
  },
  {
   "cell_type": "code",
   "execution_count": 125,
   "metadata": {},
   "outputs": [
    {
     "name": "stdout",
     "output_type": "stream",
     "text": [
      "Number of positive reviews: 1000\n",
      "Number of negative reviews: 2000\n",
      "Number of unique words: 500\n"
     ]
    }
   ],
   "source": [
    "print('Number of positive reviews:', len(reviews_1star))\n",
    "print('Number of negative reviews:', len(reviews_5star))\n",
    "print('Number of unique words:', VOCABULARY_SIZE)"
   ]
  },
  {
   "cell_type": "markdown",
   "metadata": {},
   "source": [
    "You have to create two dictionaries: `word_to_ind` and `ind_to_word` so we can go from text to numerical representation and vice versa. The input into the model will be the index of the word denoting the position in the vocabulary."
   ]
  },
  {
   "cell_type": "code",
   "execution_count": 126,
   "metadata": {},
   "outputs": [],
   "source": [
    "\"\"\"\n",
    "Implement\n",
    "---------\n",
    "word_to_ind: dict\n",
    "    The keys are words (str) and the value is the corresponding position in the vocabulary\n",
    "ind_to_word: dict\n",
    "    The keys are indices (int) and the value is the corresponding word from the vocabulary\n",
    "ind_to_freq: dict\n",
    "    The keys are indices (int) and the value is the corresponding count in the vocabulary\n",
    "\"\"\"\n",
    "\n",
    "## YOUR CODE HERE ###\n",
    "word_to_ind = {x:vocabulary.index(x) for x in vocabulary}\n",
    "ind_to_word = {vocabulary.index(x):x for x in vocabulary}\n",
    "ind_to_freq = {index:counts[index] for index in range(len(counts))}"
   ]
  },
  {
   "cell_type": "code",
   "execution_count": 127,
   "metadata": {},
   "outputs": [
    {
     "name": "stdout",
     "output_type": "stream",
     "text": [
      "Word \"the\" is at position 0 appearing 2017 times\n"
     ]
    }
   ],
   "source": [
    "print('Word \\\"%s\\\" is at position %d appearing %d times' % \n",
    "      (ind_to_word[word_to_ind['the']], word_to_ind['the'], ind_to_freq[word_to_ind['the']]))"
   ]
  },
  {
   "cell_type": "markdown",
   "metadata": {},
   "source": [
    "# 3. Create word pairs\n",
    "\n",
    "We need all the word pairs $\\{ x_i, x_j \\}$, where $x_i$ is the current word and $x_j$ is from its context window. These will correspond to input-output pairs. We want them to be represented numericaly so you should use `word_to_ind` dictionary."
   ]
  },
  {
   "cell_type": "code",
   "execution_count": 128,
   "metadata": {},
   "outputs": [],
   "source": [
    "def get_window(sentence, window_size):\n",
    "    sentence = [x for x in sentence if x in vocabulary]\n",
    "    pairs = []\n",
    "    \n",
    "\n",
    "    \"\"\"\n",
    "    Iterate over all the sentences\n",
    "    Take all the words from (i - window_size) to (i + window_size) and save them to pairs\n",
    "    \n",
    "    Parameters\n",
    "    ----------\n",
    "    sentence: list\n",
    "        A list of sentences, each sentence containing a list of words of str type\n",
    "    window_size: int\n",
    "        A positive scalar\n",
    "        \n",
    "    Returns\n",
    "    -------\n",
    "    pairs: list\n",
    "        A list of tuple (word index, word index from its context) of int type\n",
    "    \"\"\"\n",
    "\n",
    "    ### YOUR CODE HERE ###\n",
    "    \n",
    "    #  window :Array containing the indices from -window_size to window_size;\n",
    "    #  Example; For window_size = 3 ; window = [-3 -2 -1  1  2  3] \n",
    "    window = np.delete(np.arange(-window_size, window_size+1),window_size)\n",
    "    for curr_word_index in range(len(sentence)):\n",
    "        #  curr_window :Array containing the window indices of i-th word from (i - window_size) to (i + window_size);\n",
    "        curr_window = window + curr_word_index \n",
    "        for elem in curr_window:\n",
    "            # Filtering valid indices from curr_window ;For i=0,curr_window= [-3 -2 -1  1  2  3] ; valid indices are [1,2,3]\n",
    "            if(elem >= 0 and elem <len(sentence)): \n",
    "                pairs.append((word_to_ind[sentence[curr_word_index]],word_to_ind[sentence[elem]]))\n",
    "                \n",
    "    return pairs"
   ]
  },
  {
   "cell_type": "code",
   "execution_count": 129,
   "metadata": {},
   "outputs": [
    {
     "name": "stdout",
     "output_type": "stream",
     "text": [
      "First 5 pairs: [[10, 6], [10, 64], [10, 320], [6, 10], [6, 64]]\n",
      "Total number of pairs: 152322\n"
     ]
    }
   ],
   "source": [
    "data = []\n",
    "for x in reviews_1star + reviews_5star:\n",
    "    data += get_window(x, window_size=3)\n",
    "data = np.array(data)\n",
    "\n",
    "print('First 5 pairs:', data[:5].tolist())\n",
    "print('Total number of pairs:', data.shape[0])"
   ]
  },
  {
   "cell_type": "markdown",
   "metadata": {},
   "source": [
    "We calculate a weighting score to counter the imbalance between the rare and frequent words. Rare words will be sampled more frequently. See https://arxiv.org/pdf/1310.4546.pdf"
   ]
  },
  {
   "cell_type": "code",
   "execution_count": 130,
   "metadata": {},
   "outputs": [],
   "source": [
    "probabilities = [1 - np.sqrt(1e-3 / ind_to_freq[x]) for x in data[:,0]]\n",
    "probabilities /= np.sum(probabilities)"
   ]
  },
  {
   "cell_type": "markdown",
   "metadata": {},
   "source": [
    "# 4. Model definition\n",
    "\n",
    "In this part you should implement forward and backward propagation together with update of the parameters."
   ]
  },
  {
   "cell_type": "code",
   "execution_count": 131,
   "metadata": {},
   "outputs": [],
   "source": [
    "class Embedding():\n",
    "    def __init__(self, N, D, seed=None):\n",
    "        \"\"\"\n",
    "        Parameters\n",
    "        ----------\n",
    "        N: int\n",
    "            Number of unique words in the vocabulary\n",
    "        D: int\n",
    "            Dimension of the word vector embedding\n",
    "        seed: int\n",
    "            Sets the random seed, if omitted weights will be random\n",
    "        \"\"\"\n",
    "\n",
    "        self.N = N\n",
    "        self.D = D\n",
    "        \n",
    "        self.init_weights(seed)\n",
    "    \n",
    "    def init_weights(self, seed=None):\n",
    "        if seed is not None:\n",
    "            np.random.seed(seed)\n",
    "\n",
    "        \"\"\"\n",
    "        We initialize weight matrices U and V of dimension (D, N) and (N, D) respectively\n",
    "        \"\"\"\n",
    "        self.U = np.random.normal(0, np.sqrt(2 / self.D / self.N), (self.D, self.N))\n",
    "        self.V = np.random.normal(0, np.sqrt(2 / self.D / self.N), (self.N, self.D))\n",
    "\n",
    "    def one_hot(self, x, N):\n",
    "        \"\"\"\n",
    "        Given a vector returns a matrix with rows corresponding to one-hot encoding\n",
    "        \n",
    "        Parameters\n",
    "        ----------\n",
    "        x: array\n",
    "            M-dimensional vector containing integers from [0, N]\n",
    "        N: int\n",
    "            Number of posible classes\n",
    "        \n",
    "        Returns\n",
    "        -------\n",
    "        one_hot: array\n",
    "            (N, M) matrix where each column is N-dimensional one-hot encoding of elements from x \n",
    "        \"\"\"\n",
    "\n",
    "        ### YOUR CODE HERE ###\n",
    "        one_hot = np.eye(N)[x].T\n",
    "\n",
    "        assert one_hot.shape == (N, x.shape[0])\n",
    "        return one_hot\n",
    "\n",
    "    def loss(self, y, prob):\n",
    "        \"\"\"\n",
    "        Parameters\n",
    "        ----------\n",
    "        y: array\n",
    "            (N, M) matrix of M samples where columns are one-hot vectors for true values\n",
    "        prob: array\n",
    "            (N, M) column of M samples where columns are probabily vectors after softmax\n",
    "\n",
    "        Returns\n",
    "        -------\n",
    "        loss: int\n",
    "            Cross-entropy loss calculated as: 1 / M * sum_i(sum_j(y_ij * log(prob_ij)))\n",
    "        \"\"\"\n",
    "\n",
    "        ### YOUR CODE HERE ###\n",
    "        M = y.shape[1]  #Number of samples;M\n",
    "        \n",
    "        loss = np.sum(y * np.log(prob)) \n",
    "        loss = -loss/y.shape[1]\n",
    "        \n",
    "        return loss\n",
    "    \n",
    "    def softmax(self, x, axis):\n",
    "        \"\"\"\n",
    "        Parameters\n",
    "        ----------\n",
    "        x: array\n",
    "            A non-empty matrix of any dimension\n",
    "        axis: int\n",
    "            Dimension on which softmax is performed\n",
    "            \n",
    "        Returns\n",
    "        -------\n",
    "        y: array\n",
    "            Matrix of same dimension as x with softmax applied to 'axis' dimension\n",
    "        \"\"\"\n",
    "        \n",
    "        ### YOUR CODE HERE ###\n",
    "        exp_logits = np.exp(x)\n",
    "        y = exp_logits/(np.sum(exp_logits,axis=axis,keepdims=True))\n",
    "        \n",
    "        return y\n",
    "    \n",
    "    def step(self, x, y, learning_rate=1e-3):\n",
    "        \"\"\"\n",
    "        Performs forward and backward propagation and updates weights\n",
    "        \n",
    "        Parameters\n",
    "        ----------\n",
    "        x: array\n",
    "            M-dimensional mini-batched vector containing input word indices of int type\n",
    "        y: array\n",
    "            Output words, same dimension and type as 'x'\n",
    "        learning_rate: float\n",
    "            A positive scalar determining the update rate\n",
    "            \n",
    "        Returns\n",
    "        -------\n",
    "        loss: float\n",
    "            Cross-entropy loss\n",
    "        d_U: array\n",
    "            Partial derivative of loss w.r.t. U\n",
    "        d_V: array\n",
    "            Partial derivative of loss w.r.t. V\n",
    "        \"\"\"\n",
    "        \n",
    "        # Input transformation\n",
    "        \"\"\"\n",
    "        Input is represented with M-dimensional vectors\n",
    "        We convert them to (N, M) matrices such that columns are one-hot \n",
    "        representations of the input\n",
    "        \"\"\"\n",
    "        x = self.one_hot(x, self.N)\n",
    "        y = self.one_hot(y, self.N)\n",
    "\n",
    "        \n",
    "        # Forward propagation\n",
    "        \"\"\"\n",
    "        Returns\n",
    "        -------\n",
    "        embedding: array\n",
    "            (D, M) matrix where columns are word embedding from U matrix\n",
    "        logits: array\n",
    "            (N, M) matrix where columns are output logits\n",
    "        prob: array\n",
    "            (N, M) matrix where columns are output probabilities\n",
    "        \"\"\"\n",
    "        \n",
    "        ### YOUR CODE HERE ###\n",
    "        embedding = np.dot(self.U,x) # Word Vector; u= Ux\n",
    "        logits = np.dot(self.V,embedding) # Logits; o= Vu\n",
    "        prob = self.softmax(logits,0) #Probabilities; yˆ= softmax(o)\n",
    "        \n",
    "        assert embedding.shape == (self.D, x.shape[1])\n",
    "        assert logits.shape == (self.N, x.shape[1])\n",
    "        assert prob.shape == (self.N, x.shape[1])\n",
    "        \n",
    "    \n",
    "        # Loss calculation\n",
    "        \"\"\"\n",
    "        Returns\n",
    "        -------\n",
    "        loss: int\n",
    "            Cross-entropy loss using true values and probabilities\n",
    "        \"\"\"\n",
    "        \n",
    "        ### YOUR CODE HERE ###\n",
    "        loss = self.loss(y,prob) #Cross-entropy loss of true value: y and probabilities: yˆ\n",
    "        \n",
    "        \n",
    "        # Backward propagation\n",
    "        \"\"\"\n",
    "        Returns\n",
    "        -------\n",
    "        d_U: array\n",
    "            (N, D) matrix of partial derivatives of loss w.r.t. U\n",
    "        d_V: array\n",
    "            (D, N) matrix of partial derivatives of loss w.r.t. V\n",
    "        \"\"\"\n",
    "        \n",
    "        ### YOUR CODE HERE ###\n",
    "        \n",
    "        #∂L/∂o = yˆ − y\n",
    "        dL_do = prob-y\n",
    "        \n",
    "        #∂L/∂V = = (yˆ − y)u.T\n",
    "        d_V = np.dot(dL_do,embedding.T)\n",
    "        \n",
    "        #∂L/∂U=V.T (yˆ − y)x.T\n",
    "        d_U = np.dot(np.dot(self.V.T,dL_do),x.T)\n",
    "        \n",
    "        assert d_V.shape == (self.N, self.D)\n",
    "        assert d_U.shape == (self.D, self.N)\n",
    "\n",
    "        \n",
    "        # Update the parameters\n",
    "        \"\"\"\n",
    "        Updates the weights with gradient descent such that W_new = W - alpha * dL/dW, \n",
    "        where alpha is the learning rate and dL/dW is the partial derivative of loss w.r.t. \n",
    "        the weights W\n",
    "        \"\"\"\n",
    "        \n",
    "        ### YOUR CODE HERE ###\n",
    "        self.U = self.U - (learning_rate * d_U)\n",
    "        self.V = self.V - (learning_rate * d_V)\n",
    "\n",
    "        return loss, d_U, d_V"
   ]
  },
  {
   "cell_type": "markdown",
   "metadata": {},
   "source": [
    "## 4.1 Gradient check\n",
    "\n",
    "The following code checks whether the updates for weights are implemented correctly. It should run without an error."
   ]
  },
  {
   "cell_type": "code",
   "execution_count": 132,
   "metadata": {},
   "outputs": [
    {
     "name": "stdout",
     "output_type": "stream",
     "text": [
      "Gradients checked - all good!\n"
     ]
    }
   ],
   "source": [
    "def get_loss(model, old, variable, epsilon, x, y, i, j):\n",
    "    delta = np.zeros_like(old)\n",
    "    delta[i, j] = epsilon\n",
    "\n",
    "    model.init_weights(seed=132) # reset weights\n",
    "    setattr(model, variable, old + delta) # change one weight by a small amount\n",
    "    loss, _, _ = model.step(x, y) # get loss\n",
    "\n",
    "    return loss\n",
    "\n",
    "def gradient_check_for_weight(model, variable, i, j, k, l):\n",
    "    x, y = np.array([i]), np.array([j]) # set input and output\n",
    "    \n",
    "    old = getattr(model, variable)\n",
    "    \n",
    "    model.init_weights(seed=132) # reset weights\n",
    "    _, d_U, d_V = model.step(x, y) # get gradients with backprop\n",
    "    grad = { 'U': d_U, 'V': d_V }\n",
    "    \n",
    "    eps = 1e-4\n",
    "    loss_positive = get_loss(model, old, variable, eps, x, y, k, l) # loss for positive change on one weight\n",
    "    loss_negative = get_loss(model, old, variable, -eps, x, y, k, l) # loss for negative change on one weight\n",
    "    \n",
    "    true_gradient = (loss_positive - loss_negative) / 2 / eps # calculate true derivative wrt one weight\n",
    "\n",
    "    assert abs(true_gradient - grad[variable][k, l]) < 1e-5 # require that the difference is small\n",
    "\n",
    "def gradient_check():\n",
    "    N, D = VOCABULARY_SIZE, EMBEDDING_DIM\n",
    "    model = Embedding(N, D)\n",
    "\n",
    "    # check for V\n",
    "    for _ in range(20):\n",
    "        i, j, k = [np.random.randint(0, d) for d in [N, N, D]] # get random indices for input and weights\n",
    "        gradient_check_for_weight(model, 'V', i, j, i, k)\n",
    "\n",
    "    # check for U\n",
    "    for _ in range(20):\n",
    "        i, j, k = [np.random.randint(0, d) for d in [N, N, D]]\n",
    "        gradient_check_for_weight(model, 'U', i, j, k, i)\n",
    "\n",
    "    print('Gradients checked - all good!')\n",
    "\n",
    "gradient_check()"
   ]
  },
  {
   "cell_type": "markdown",
   "metadata": {},
   "source": [
    "# 5. Training"
   ]
  },
  {
   "cell_type": "markdown",
   "metadata": {},
   "source": [
    "We train our model using stochastic gradient descent. At every step we sample a mini-batch from data and update the weights.\n",
    "\n",
    "The following function samples words from data and creates mini-batches. It subsamples frequent words based on previously calculated probabilities."
   ]
  },
  {
   "cell_type": "code",
   "execution_count": 133,
   "metadata": {},
   "outputs": [],
   "source": [
    "def get_batch(data, size, prob):\n",
    "    i = np.random.choice(data.shape[0], size, p=prob)\n",
    "    return data[i, 0], data[i, 1]"
   ]
  },
  {
   "cell_type": "markdown",
   "metadata": {},
   "source": [
    "Training the model can take some time so plan accordingly."
   ]
  },
  {
   "cell_type": "code",
   "execution_count": 134,
   "metadata": {},
   "outputs": [
    {
     "name": "stdout",
     "output_type": "stream",
     "text": [
      "Iteration: 10000 Loss: 5.720877745751312\n",
      "Iteration: 20000 Loss: 5.252343379037398\n",
      "Iteration: 30000 Loss: 5.196175315799795\n",
      "Iteration: 40000 Loss: 5.158911015163778\n",
      "Iteration: 50000 Loss: 5.1261652817285315\n",
      "Iteration: 60000 Loss: 5.098544410024055\n",
      "Iteration: 70000 Loss: 5.075071076085994\n",
      "Iteration: 80000 Loss: 5.051043188281149\n",
      "Iteration: 90000 Loss: 5.032115598706187\n",
      "Iteration: 100000 Loss: 5.017660021697001\n",
      "Iteration: 110000 Loss: 4.999153545599579\n",
      "Iteration: 120000 Loss: 4.982664865916823\n",
      "Iteration: 130000 Loss: 4.97133214914672\n",
      "Iteration: 140000 Loss: 4.956760364033695\n",
      "Iteration: 150000 Loss: 4.942614649709521\n"
     ]
    }
   ],
   "source": [
    "np.random.seed(123)\n",
    "model = Embedding(N=VOCABULARY_SIZE, D=EMBEDDING_DIM)\n",
    "\n",
    "losses = []\n",
    "\n",
    "MAX_ITERATIONS = 150000\n",
    "PRINT_EVERY = 10000\n",
    "\n",
    "for i in range(MAX_ITERATIONS):\n",
    "    x, y = get_batch(data, 128, probabilities)\n",
    "    loss, _, _ = model.step(x, y, 1e-3)\n",
    "    losses.append(loss)\n",
    "\n",
    "    if (i + 1) % PRINT_EVERY == 0:\n",
    "        print('Iteration:', i + 1, 'Loss:', np.mean(losses[-PRINT_EVERY:]))"
   ]
  },
  {
   "cell_type": "markdown",
   "metadata": {},
   "source": [
    "The embedding matrix is given by $\\mathbf{U}^T$, where the $i$th row is the vector for $i$th word in the vocabulary."
   ]
  },
  {
   "cell_type": "code",
   "execution_count": 135,
   "metadata": {},
   "outputs": [],
   "source": [
    "emb_matrix = model.U.T"
   ]
  },
  {
   "cell_type": "markdown",
   "metadata": {},
   "source": [
    "# 6. Analogies\n",
    "\n",
    "As mentioned before, vectors can keep some language properties like analogies. Given a relation a:b and a query c, we can find d such that c:d follows the same relation. We hope to find d by using vector operations. In this case, finding the real word vector $\\mathbf{u}_d$ closest to $\\mathbf{u}_b - \\mathbf{u}_a + \\mathbf{u}_c$ gives us d."
   ]
  },
  {
   "cell_type": "code",
   "execution_count": 145,
   "metadata": {},
   "outputs": [
    {
     "name": "stdout",
     "output_type": "stream",
     "text": [
      "go is to going as come is to [going|coming|disappointed|i'll|come]\n",
      "look is to looking as come is to [looking|come|go|you'll|must]\n",
      "you is to their as we is to [we|potatoes|both|finally|their]\n",
      "what is to that as when is to [when|that|eating|mouth|put]\n",
      "go is to went as is is to [is|went|has|reviews|ordered]\n",
      "go is to went as find is to [few|went|party|arrived|almost]\n"
     ]
    }
   ],
   "source": [
    "triplets = [['go', 'going', 'come'], ['look', 'looking', 'come'], ['you', 'their', 'we'], \n",
    "            ['what', 'that', 'when'], ['go', 'went', 'is'], ['go', 'went', 'find']]\n",
    "\n",
    "for triplet in triplets:\n",
    "    a, b, c = triplet\n",
    "\n",
    "    \"\"\"\n",
    "    Returns\n",
    "    -------\n",
    "    candidates: list\n",
    "        A list of 5 closest words, measured with cosine similarity, to the vector u_b - u_a + u_c\n",
    "    \"\"\"\n",
    "    \n",
    "    ### YOUR CODE HERE ###\n",
    "    candidates = []\n",
    "    \n",
    "    #cos_sim_list: List ; Contains the cosine similarities of words in embedding matrix to the vector u_d= u_b - u_a + u_c\n",
    "    cos_sim_list = []\n",
    "    \n",
    "    u_a = emb_matrix[word_to_ind[a]] # Vector :u_a\n",
    "    u_b = emb_matrix[word_to_ind[b]] # Vector :u_b\n",
    "    u_c = emb_matrix[word_to_ind[c]] # Vector :u_c\n",
    "    u_d = u_b -u_a + u_c             # Vector :u_d\n",
    "    \n",
    "    for i in range(emb_matrix.shape[0]):\n",
    "        cos_sim_list.append(1 - spatial.distance.cosine(u_d,emb_matrix[i]))\n",
    "    \n",
    "    # top5_word_indices : Array containing the top 5 closest word indices in embedding matrix\n",
    "    top5_word_indices = np.argsort(cos_sim_list)[-5:]\n",
    "    candidates = [ind_to_word[index] for index in reversed(top5_word_indices)]\n",
    "    \n",
    "    print('%s is to %s as %s is to [%s]' % (a, b, c, '|'.join(candidates)))    "
   ]
  },
  {
   "cell_type": "markdown",
   "metadata": {},
   "source": [
    "# RNN\n",
    "\n",
    "Our end goal is to use the pretrained word vectors on some downstream task, e.g. sentiment analysis. We first generate a dataset where we just concatenate 1 and 5-star reviews into `all_sentences`. We also create a list `Y` with labels 1 for positive reviews and 0 for negative"
   ]
  },
  {
   "cell_type": "code",
   "execution_count": 146,
   "metadata": {},
   "outputs": [],
   "source": [
    "all_sentences = reviews_1star + reviews_5star\n",
    "Y = np.array([0] * len(reviews_1star) + [1] * len(reviews_5star))\n",
    "\n",
    "SENTENCES_SIZE = len(all_sentences)\n",
    "MAX_SENTENCE_LENGTH = max([len(x) for x in all_sentences])"
   ]
  },
  {
   "cell_type": "markdown",
   "metadata": {},
   "source": [
    "Your task is to create an array $\\mathbf{X}$ where (i,j,k) element denotes $k$th value of an embedding for $j$th word in $i$th sentence in the dataset. In addition, we need a list that keeps track of how many words are in each sentence. "
   ]
  },
  {
   "cell_type": "code",
   "execution_count": 147,
   "metadata": {},
   "outputs": [],
   "source": [
    "\"\"\"\n",
    "Returns\n",
    "-------\n",
    "X: array\n",
    "    Array of dimensions (SENTENCES_SIZE, MAX_SENTENCE_LENGTH, EMBEDDING_DIM) where \n",
    "    the first dimension denotes the index of the sentence in the dataset and second is \n",
    "    the word index in the sentence. Sentences that are shorter than MAX_SENTENCE_LENGTH\n",
    "    are padded with zero vectors. Words that are not in the vocabulary are also \n",
    "    represented with zero vectors of EMBEDDING_DIM size.\n",
    "S: array\n",
    "    Array of SENTENCES_SIZE dimension containing the sentence lenghts\n",
    "\"\"\"\n",
    "\n",
    "### YOUR CODE HERE ###\n",
    "\n",
    "X = np.zeros((SENTENCES_SIZE,MAX_SENTENCE_LENGTH,EMBEDDING_DIM)) # Array intialization to zero vectors\n",
    "S = np.zeros((SENTENCES_SIZE))\n",
    "\n",
    "for i,sentence in enumerate(all_sentences):\n",
    "    S[i]=len(sentence);\n",
    "    for j,word in enumerate(sentence):\n",
    "        if word in word_to_ind:\n",
    "            X[i][j] = emb_matrix[word_to_ind[word]] #embedding for j-th word in i-th sentence in the dataset"
   ]
  },
  {
   "cell_type": "markdown",
   "metadata": {},
   "source": [
    "We want to train on a subset of data, and test on remaining data. Your task is to split X, Y and S into training and test set (60%-40%)."
   ]
  },
  {
   "cell_type": "code",
   "execution_count": 148,
   "metadata": {},
   "outputs": [],
   "source": [
    "\"\"\"\n",
    "Returns\n",
    "-------\n",
    "X_train, y_train, s_train: arrays\n",
    "    Randomly selected 60% of all data\n",
    "X_test, y_test, s_test: arrays\n",
    "    Rest of the data\n",
    "\"\"\"\n",
    "\n",
    "### YOUR CODE HERE ###\n",
    "train = np.random.choice(range(SENTENCES_SIZE), int(0.6 * SENTENCES_SIZE), replace=False)\n",
    "test = list(set(range(SENTENCES_SIZE))- set(train))\n",
    "\n",
    "X_train = X[train]\n",
    "y_train = Y[train]\n",
    "s_train = S[train]\n",
    "\n",
    "X_test = X[test]\n",
    "y_test = Y[test]\n",
    "s_test = S[test]"
   ]
  },
  {
   "cell_type": "markdown",
   "metadata": {},
   "source": [
    "LSTM implementation in tensorflow. Inputs are padded sequences of word vectors, sentence lengths, and true labels (0 or 1). The model takes word vectors and passes them through the LSTM. Final state is used as an input of one fully connected layer with output dimension 1. We also get probability that the class is positive and argmax label. Network uses Adam optimizer."
   ]
  },
  {
   "cell_type": "code",
   "execution_count": 155,
   "metadata": {},
   "outputs": [],
   "source": [
    "class LSTM:\n",
    "    def __init__(self, cell_dim=64):\n",
    "        \"\"\"\n",
    "        Attributes\n",
    "        ----------\n",
    "        x: float\n",
    "            Input sentence of shape (BATCH SIZE, MAX SENTENCE LENGTH, EMBEDDING DIM)\n",
    "        y: float\n",
    "            Output label of shape (BATCH SIZE)\n",
    "        s: float\n",
    "            Length of sentences of shape (BATCH SIZE)\n",
    "        last_state: float\n",
    "            The last state of sequences with shape (BATCH SIZE, CELL DIM)\n",
    "        logits: float\n",
    "            The \n",
    "        prob: float\n",
    "            Probabilities after sigmoid\n",
    "        y_hat: int\n",
    "            Predicted class value (0 or 1)\n",
    "        loss: float\n",
    "            Cross entropy loss\n",
    "        optimize:\n",
    "            Operation that updates the weights based on the loss\n",
    "        accuracy: float\n",
    "            Accuracy of prediction y_hat given y\n",
    "        \"\"\"\n",
    "        \n",
    "        \n",
    "        \"\"\"\n",
    "        Define input placeholders x, y and s as class attributes\n",
    "        \"\"\"\n",
    "        ### YOUR CODE HERE ###\n",
    "        self.x = tf.placeholder(tf.float32, shape=[None, MAX_SENTENCE_LENGTH, EMBEDDING_DIM])\n",
    "        self.y = tf.placeholder(tf.float32, shape=[None])\n",
    "        self.s = tf.placeholder(tf.float32, shape=[None])\n",
    "        \n",
    "\n",
    "        \"\"\" \n",
    "        Use dynamic_rnn to define an LSTM layer\n",
    "        Define last_state as class attribute to be the last output h of LSTM\n",
    "        (Note that we have zero padding)\n",
    "        \"\"\"\n",
    "        ### YOUR CODE HERE ### \n",
    "        \n",
    "        cell = tf.nn.rnn_cell.BasicRNNCell(num_units=cell_dim)\n",
    "        _, last_state = tf.nn.dynamic_rnn(cell, self.x, initial_state=None,dtype=tf.float32, sequence_length=self.s)\n",
    "        \n",
    "        \"\"\"\n",
    "        Define logits, prob and y_hat as class attributes. \n",
    "        We get logits by applying a single dense layer on the last state.\n",
    "        \"\"\"\n",
    "        ### YOUR CODE HERE ### \n",
    "        self.logits = tf.layers.dense(last_state, 1)\n",
    "        self.logits = tf.squeeze(self.logits)\n",
    "        \n",
    "        self.prob = tf.sigmoid(self.logits)\n",
    "        self.y_hat = tf.round(self.prob) #(self.prob>0.5)\n",
    "        self.y_hat = tf.cast(self.y_hat, tf.int32)\n",
    "        \n",
    "        self.loss = tf.reduce_mean(tf.nn.sigmoid_cross_entropy_with_logits(labels=self.y, logits=self.logits))\n",
    "        self.optimize = tf.train.AdamOptimizer(learning_rate = 0.001).minimize(self.loss)\n",
    "        self.acc_op,self.accuracy = tf.metrics.accuracy(labels= self.y, predictions= self.y_hat)"
   ]
  },
  {
   "cell_type": "markdown",
   "metadata": {},
   "source": [
    "In this part we finally train our RNN model and evaluate on the test set."
   ]
  },
  {
   "cell_type": "code",
   "execution_count": 156,
   "metadata": {},
   "outputs": [
    {
     "name": "stdout",
     "output_type": "stream",
     "text": [
      "Iter: 100 Train loss: 0.6244972 Train accuracy: 0.625\n",
      "Iter: 200 Train loss: 0.5249944 Train accuracy: 0.6875\n",
      "Iter: 300 Train loss: 0.5168599 Train accuracy: 0.7239583\n",
      "Test loss: 0.68189687 Test accuracy: 0.66\n"
     ]
    }
   ],
   "source": [
    "tf.reset_default_graph()\n",
    "tf.set_random_seed(123)\n",
    "np.random.seed(123)\n",
    "\n",
    "model = LSTM()\n",
    "\n",
    "with tf.Session() as sess:\n",
    "    sess.run(tf.global_variables_initializer())\n",
    "    sess.run(tf.local_variables_initializer())\n",
    "\n",
    "    for iter in range(300):\n",
    "        i = np.random.randint(0, X_train.shape[0], 64)\n",
    "        feed = { model.x: X_train[i], model.y: y_train[i], model.s: s_train[i] }\n",
    "        _ = sess.run(model.optimize, feed)\n",
    "        \n",
    "        if (iter + 1) % 100 == 0:\n",
    "            train_loss, train_accuracy = sess.run([model.loss, model.accuracy], feed)\n",
    "            print('Iter:', iter + 1, 'Train loss:', train_loss, 'Train accuracy:', train_accuracy)\n",
    "\n",
    "    test_loss, test_pred = sess.run([model.loss, model.y_hat], { model.x: X_test, model.y: y_test, model.s: s_test })\n",
    "    print('Test loss:', test_loss, 'Test accuracy:', np.mean(test_pred == y_test))"
   ]
  }
 ],
 "metadata": {
  "kernelspec": {
   "display_name": "Python 3",
   "language": "python",
   "name": "python3"
  },
  "language_info": {
   "codemirror_mode": {
    "name": "ipython",
    "version": 3
   },
   "file_extension": ".py",
   "mimetype": "text/x-python",
   "name": "python",
   "nbconvert_exporter": "python",
   "pygments_lexer": "ipython3",
   "version": "3.7.3"
  }
 },
 "nbformat": 4,
 "nbformat_minor": 2
}
